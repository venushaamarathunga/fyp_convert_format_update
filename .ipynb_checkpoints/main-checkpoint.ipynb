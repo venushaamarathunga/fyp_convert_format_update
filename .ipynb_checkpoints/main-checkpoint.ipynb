{
 "cells": [
  {
   "cell_type": "code",
   "execution_count": null,
   "id": "chubby-employer",
   "metadata": {},
   "outputs": [],
   "source": [
    " !pip install ffmpeg moviepy"
   ]
  },
  {
   "cell_type": "code",
   "execution_count": null,
   "id": "bound-belief",
   "metadata": {},
   "outputs": [],
   "source": [
    "import os\n",
    "import random\n",
    "import sys\n",
    "\n",
    "## Package\n",
    "import glob \n",
    "import keras\n",
    "import IPython.display as ipd\n",
    "import librosa\n",
    "import librosa.display as display \n",
    "import matplotlib.pyplot as plt\n",
    "import numpy as np\n",
    "import pandas as pd\n",
    "import plotly.graph_objs as go\n",
    "import plotly.offline as py\n",
    "import plotly.tools as tls\n",
    "import seaborn as sns\n",
    "\n",
    "\n",
    "import tensorflow as tf\n",
    "py.init_notebook_mode(connected=True)\n",
    "\n",
    "\n",
    "import moviepy.editor as mp\n",
    "\n",
    "\n",
    "# from skimage.restoration import denoise_wavelet\n",
    "## Rest\n",
    "from scipy.fftpack import fft\n",
    "from scipy import signal\n",
    "from scipy.io import wavfile as wav\n",
    "from tqdm import tqdm\n",
    "\n",
    "# from IPython.display import Audio\n",
    "import matplotlib.pyplot as plt\n",
    "    \n",
    "input_duration=3"
   ]
  },
  {
   "cell_type": "code",
   "execution_count": null,
   "id": "spoken-patrol",
   "metadata": {},
   "outputs": [],
   "source": [
    "from pydub import AudioSegment\n",
    "\n",
    "dir_list = os.listdir('audio/train/') \n",
    "dir_list.sort()\n",
    "print(dir_list)"
   ]
  },
  {
   "cell_type": "code",
   "execution_count": null,
   "id": "sustained-exposure",
   "metadata": {},
   "outputs": [],
   "source": [
    "# for i in dir_list:\n",
    "#     file_list = os.listdir('audio/train/' + i)\n",
    "#     print(file_list)\n",
    "    \n",
    "#     for f in file_list:\n",
    "#         name = f.split('.')[0]\n",
    "#         typ = f.split('.')[1]\n",
    "        \n",
    "#         location = os.path.join(\"audio/train/\" + i + \"/\", f)\n",
    "#         if typ == \"3gpp\" or typ == \"mp4\" or typ == \"ogg\" :\n",
    "#             clip = mp.AudioFileClip(location)\n",
    "#             clip.write_audiofile(\"audio/copy_train/\" + i+\"/\" + name + \".wav\")\n",
    "#             clip.close()\n",
    "            \n",
    "#         elif typ != \"3gpp\" or typ != \"mp4\" :\n",
    "#             mp4_version = AudioSegment.from_file(location, typ)\n",
    "#             dst = \"audio/copy_train/\" + i+\"/\" + name + \".wav\"\n",
    "#             mp4_version.export(dst, format=\"wav\")"
   ]
  }
 ],
 "metadata": {
  "kernelspec": {
   "display_name": "Python 3",
   "language": "python",
   "name": "python3"
  },
  "language_info": {
   "codemirror_mode": {
    "name": "ipython",
    "version": 3
   },
   "file_extension": ".py",
   "mimetype": "text/x-python",
   "name": "python",
   "nbconvert_exporter": "python",
   "pygments_lexer": "ipython3",
   "version": "3.7.9"
  }
 },
 "nbformat": 4,
 "nbformat_minor": 5
}
